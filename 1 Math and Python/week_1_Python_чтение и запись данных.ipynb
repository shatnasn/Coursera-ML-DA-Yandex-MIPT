{
 "cells": [
  {
   "cell_type": "code",
   "execution_count": 1,
   "metadata": {},
   "outputs": [
    {
     "name": "stdout",
     "output_type": "stream",
     "text": [
      "Microsoft Windows [Version 10.0.17763.1098]\r\n",
      "(c) Љ®аЇ®а жЁп Њ ©Єа®б®дв (Microsoft Corporation), 2018. ‚бҐ Їа ў  § йЁйҐ­л.\r\n",
      "\r\n",
      "C:\\Users\\Zver\\DS\\coursera>chcp 65001\n",
      "Active code page: 65001\r\n",
      "\r\n",
      "C:\\Users\\Zver\\DS\\coursera>"
     ]
    }
   ],
   "source": [
    "#Математика и Python для анализа данных, Неделя 1\n",
    "%%cmd\n",
    "chcp 65001"
   ]
  },
  {
   "cell_type": "code",
   "execution_count": 8,
   "metadata": {},
   "outputs": [
    {
     "data": {
      "text/plain": [
       "'hello world'"
      ]
     },
     "execution_count": 8,
     "metadata": {},
     "output_type": "execute_result"
    }
   ],
   "source": [
    "t = 'hello world'\n",
    "t"
   ]
  },
  {
   "cell_type": "code",
   "execution_count": 9,
   "metadata": {},
   "outputs": [
    {
     "data": {
      "text/plain": [
       "8.333333333333334"
      ]
     },
     "execution_count": 9,
     "metadata": {},
     "output_type": "execute_result"
    }
   ],
   "source": [
    "100/12"
   ]
  },
  {
   "cell_type": "code",
   "execution_count": 10,
   "metadata": {},
   "outputs": [
    {
     "data": {
      "text/plain": [
       "6"
      ]
     },
     "execution_count": 10,
     "metadata": {},
     "output_type": "execute_result"
    }
   ],
   "source": [
    "from math import factorial\n",
    "factorial(3)"
   ]
  },
  {
   "cell_type": "code",
   "execution_count": null,
   "metadata": {},
   "outputs": [],
   "source": [
    "# - заголовок 1 уровня и так далее, Меню - Код - Заголовок"
   ]
  },
  {
   "cell_type": "markdown",
   "metadata": {},
   "source": [
    "# Header"
   ]
  },
  {
   "cell_type": "code",
   "execution_count": null,
   "metadata": {},
   "outputs": [],
   "source": [
    "#LaTeX - Markdown\n",
    "## $$c = \\sqrt{a^2 + b^2}$$"
   ]
  },
  {
   "cell_type": "markdown",
   "metadata": {},
   "source": [
    "$$ c = \\sqrt{a^2 + b^2}$$"
   ]
  },
  {
   "cell_type": "code",
   "execution_count": 20,
   "metadata": {},
   "outputs": [
    {
     "name": "stdout",
     "output_type": "stream",
     "text": [
      "hello world\n",
      "'hello world!'\n"
     ]
    }
   ],
   "source": [
    "# команды bash\n",
    "!echo $t \n",
    "!echo 'hello world!' "
   ]
  },
  {
   "cell_type": "code",
   "execution_count": 25,
   "metadata": {},
   "outputs": [
    {
     "name": "stdout",
     "output_type": "stream",
     "text": [
      "Microsoft Windows [Version 10.0.17763.1098]\r\n",
      "(c) РљРѕСЂРїРѕСЂР°С†РёСЏ РњР°Р№РєСЂРѕСЃРѕС„С‚ (Microsoft Corporation), 2018. Р’СЃРµ РїСЂР°РІР° Р·Р°С‰РёС‰РµРЅС‹.\r\n",
      "\r\n",
      "C:\\Users\\Zver\\DS\\coursera>cd\n",
      "C:\\Users\\Zver\\DS\\coursera\r\n",
      "\r\n",
      "C:\\Users\\Zver\\DS\\coursera>ls -l\n",
      "\r\n",
      "C:\\Users\\Zver\\DS\\coursera>"
     ]
    },
    {
     "name": "stderr",
     "output_type": "stream",
     "text": [
      "'ls' is not recognized as an internal or external command,\r\n",
      "operable program or batch file.\r\n"
     ]
    }
   ],
   "source": [
    "%%cmd\n",
    "cd\n",
    "ls -l"
   ]
  },
  {
   "cell_type": "code",
   "execution_count": 27,
   "metadata": {},
   "outputs": [
    {
     "name": "stdout",
     "output_type": "stream",
     "text": [
      "Populating the interactive namespace from numpy and matplotlib\n"
     ]
    }
   ],
   "source": [
    "%pylab inline"
   ]
  },
  {
   "cell_type": "code",
   "execution_count": 29,
   "metadata": {},
   "outputs": [
    {
     "data": {
      "text/plain": [
       "[<matplotlib.lines.Line2D at 0x19718f950d0>]"
      ]
     },
     "execution_count": 29,
     "metadata": {},
     "output_type": "execute_result"
    },
    {
     "data": {
      "image/png": "[encoded data removed]",
      "text/plain": [
       "<Figure size 432x288 with 1 Axes>"
      ]
     },
     "metadata": {
      "needs_background": "light"
     },
     "output_type": "display_data"
    }
   ],
   "source": [
    "#matplotlib\n",
    "y = range(11)\n",
    "y\n",
    "plot(y)"
   ]
  },
  {
   "cell_type": "code",
   "execution_count": 6,
   "metadata": {},
   "outputs": [
    {
     "name": "stdout",
     "output_type": "stream",
     "text": [
      "Populating the interactive namespace from numpy and matplotlib\n"
     ]
    },
    {
     "data": {
      "text/plain": [
       "<function __main__.<lambda>(x, y)>"
      ]
     },
     "execution_count": 6,
     "metadata": {},
     "output_type": "execute_result"
    }
   ],
   "source": [
    "%pylab inline\n",
    "lambda x, y: x ** 2"
   ]
  },
  {
   "cell_type": "code",
   "execution_count": 30,
   "metadata": {},
   "outputs": [
    {
     "data": {
      "text/plain": [
       "2319713088000.0"
      ]
     },
     "execution_count": 30,
     "metadata": {},
     "output_type": "execute_result"
    }
   ],
   "source": [
    " (190**4 - 120/0.3)*1780"
   ]
  },
  {
   "cell_type": "code",
   "execution_count": 32,
   "metadata": {},
   "outputs": [
    {
     "ename": "SyntaxError",
     "evalue": "Missing parentheses in call to 'print'. Did you mean print(Hello, world!)? (<ipython-input-32-77eca6df1792>, line 1)",
     "output_type": "error",
     "traceback": [
      "\u001b[1;36m  File \u001b[1;32m\"<ipython-input-32-77eca6df1792>\"\u001b[1;36m, line \u001b[1;32m1\u001b[0m\n\u001b[1;33m    print Hello, world!\u001b[0m\n\u001b[1;37m          ^\u001b[0m\n\u001b[1;31mSyntaxError\u001b[0m\u001b[1;31m:\u001b[0m Missing parentheses in call to 'print'. Did you mean print(Hello, world!)?\n"
     ]
    }
   ],
   "source": [
    "print Hello, world!"
   ]
  },
  {
   "cell_type": "code",
   "execution_count": 35,
   "metadata": {},
   "outputs": [],
   "source": [
    "#домашнее задание\n",
    "import numpy\n",
    "import scipy\n",
    "import pandas\n",
    "import matplotlib"
   ]
  },
  {
   "cell_type": "code",
   "execution_count": 37,
   "metadata": {},
   "outputs": [
    {
     "data": {
      "text/plain": [
       "'1.19.2'"
      ]
     },
     "execution_count": 37,
     "metadata": {},
     "output_type": "execute_result"
    }
   ],
   "source": [
    "numpy.__version__"
   ]
  },
  {
   "cell_type": "code",
   "execution_count": 38,
   "metadata": {},
   "outputs": [
    {
     "data": {
      "text/plain": [
       "'1.5.2'"
      ]
     },
     "execution_count": 38,
     "metadata": {},
     "output_type": "execute_result"
    }
   ],
   "source": [
    "scipy.__version__"
   ]
  },
  {
   "cell_type": "code",
   "execution_count": 39,
   "metadata": {},
   "outputs": [
    {
     "data": {
      "text/plain": [
       "'1.1.3'"
      ]
     },
     "execution_count": 39,
     "metadata": {},
     "output_type": "execute_result"
    }
   ],
   "source": [
    "pandas.__version__"
   ]
  },
  {
   "cell_type": "code",
   "execution_count": 40,
   "metadata": {},
   "outputs": [
    {
     "data": {
      "text/plain": [
       "'3.3.2'"
      ]
     },
     "execution_count": 40,
     "metadata": {},
     "output_type": "execute_result"
    }
   ],
   "source": [
    "matplotlib.__version__"
   ]
  },
  {
   "cell_type": "markdown",
   "metadata": {},
   "source": [
    "# Машинное обучение и анализ данных"
   ]
  },
  {
   "cell_type": "markdown",
   "metadata": {},
   "source": [
    "# Математика и Python"
   ]
  },
  {
   "cell_type": "markdown",
   "metadata": {},
   "source": [
    "Задание 1"
   ]
  },
  {
   "cell_type": "code",
   "execution_count": 42,
   "metadata": {},
   "outputs": [
    {
     "name": "stdout",
     "output_type": "stream",
     "text": [
      "1.25\n"
     ]
    }
   ],
   "source": [
    "print (5 / 4)"
   ]
  },
  {
   "cell_type": "code",
   "execution_count": 50,
   "metadata": {},
   "outputs": [
    {
     "name": "stdout",
     "output_type": "stream",
     "text": [
      "Высокий---Средний---Низкий\n"
     ]
    }
   ],
   "source": [
    "income = ['Высокий', 'Средний', 'Низкий']\n",
    "print (*income, sep = '---')"
   ]
  },
  {
   "cell_type": "code",
   "execution_count": 54,
   "metadata": {},
   "outputs": [
    {
     "name": "stdout",
     "output_type": "stream",
     "text": [
      "[4, 16, 36, 64, 100]\n",
      "<class 'list'>\n"
     ]
    }
   ],
   "source": [
    "w = [x**2 for x in range(1,11) if x%2 == 0]\n",
    "print(w)\n",
    "print(type(w))"
   ]
  },
  {
   "cell_type": "code",
   "execution_count": 53,
   "metadata": {},
   "outputs": [
    {
     "name": "stdout",
     "output_type": "stream",
     "text": [
      "<generator object <genexpr> at 0x0000019719E11820>\n",
      "<class 'generator'>\n"
     ]
    }
   ],
   "source": [
    "w = (x**2 for x in range(1,11) if x%2 == 0)\n",
    "print(w)\n",
    "print(type(w))"
   ]
  },
  {
   "cell_type": "code",
   "execution_count": 58,
   "metadata": {},
   "outputs": [
    {
     "name": "stdout",
     "output_type": "stream",
     "text": [
      "11\n"
     ]
    }
   ],
   "source": [
    "s = 0\n",
    "x = True\n",
    "while x:\n",
    "    s += 1\n",
    "    if s > 10:\n",
    "        break\n",
    "print(s)"
   ]
  },
  {
   "cell_type": "code",
   "execution_count": 1,
   "metadata": {},
   "outputs": [],
   "source": [
    "?open #справка"
   ]
  },
  {
   "cell_type": "code",
   "execution_count": 40,
   "metadata": {},
   "outputs": [
    {
     "data": {
      "text/plain": [
       "_io.TextIOWrapper"
      ]
     },
     "execution_count": 40,
     "metadata": {},
     "output_type": "execute_result"
    }
   ],
   "source": [
    "file_obj = open('jopa.txt', 'r')\n",
    "type(file_obj)"
   ]
  },
  {
   "cell_type": "code",
   "execution_count": 42,
   "metadata": {},
   "outputs": [
    {
     "name": "stdout",
     "output_type": "stream",
     "text": [
      "1 Ochir.Basangov@ru.ey.com\n",
      "2 Bat-Nasn.Botaev@ru.ey.com\n",
      "3 Diana.Karabegovich@ru.ey.com\n",
      "4 Maxim.Myakin@ru.ey.com\n",
      "5 Andrei.Ignatov@ru.ey.com\n",
      "6 Dmitriy.Chebotarev@ru.ey.com\n",
      "7 Pavel.Titarenko@ru.ey.com\n",
      "8 Maria.Taran@ru.ey.com\n"
     ]
    }
   ],
   "source": [
    "file_obj = open('jopa.txt', 'r')\n",
    "print(file_obj.read())"
   ]
  },
  {
   "cell_type": "code",
   "execution_count": 22,
   "metadata": {},
   "outputs": [
    {
     "name": "stdout",
     "output_type": "stream",
     "text": [
      "1 Ochir.Basangov@ru.ey.com\n",
      "\n"
     ]
    }
   ],
   "source": [
    "file_obj = open('jopa.txt')\n",
    "print(file_obj.readline()) #1-я строчка"
   ]
  },
  {
   "cell_type": "code",
   "execution_count": 23,
   "metadata": {},
   "outputs": [
    {
     "name": "stdout",
     "output_type": "stream",
     "text": [
      "2 Bat-Nasn.Botaev@ru.ey.com\n",
      "\n"
     ]
    }
   ],
   "source": [
    "print(file_obj.readline()) #2-я строчка"
   ]
  },
  {
   "cell_type": "code",
   "execution_count": 24,
   "metadata": {},
   "outputs": [
    {
     "name": "stdout",
     "output_type": "stream",
     "text": [
      "3 Diana.Karabegovich@ru.ey.com\n",
      "\n"
     ]
    }
   ],
   "source": [
    "print(file_obj.readline()) #3-я строчка, потом \"съедается\" каждая строка"
   ]
  },
  {
   "cell_type": "code",
   "execution_count": 25,
   "metadata": {},
   "outputs": [
    {
     "name": "stdout",
     "output_type": "stream",
     "text": [
      "1 Ochir.Basangov@ru.ey.com\n",
      "2 Bat-Nasn.Botaev@ru.ey.com\n",
      "3 Diana.Karabegovich@ru.ey.com\n",
      "4 Maxim.Myakin@ru.ey.com\n",
      "5 Andrei.Ignatov@ru.ey.com\n",
      "6 Dmitriy.Chebotarev@ru.ey.com\n",
      "7 Pavel.Titarenko@ru.ey.com\n",
      "8 Maria.Taran@ru.ey.com\n"
     ]
    }
   ],
   "source": [
    "file_obj = open('jopa.txt')\n",
    "for line in file_obj:\n",
    "    print(line.strip())"
   ]
  },
  {
   "cell_type": "code",
   "execution_count": 26,
   "metadata": {},
   "outputs": [
    {
     "name": "stdout",
     "output_type": "stream",
     "text": [
      "['1 Ochir.Basangov@ru.ey.com\\n', '2 Bat-Nasn.Botaev@ru.ey.com\\n', '3 Diana.Karabegovich@ru.ey.com\\n', '4 Maxim.Myakin@ru.ey.com\\n', '5 Andrei.Ignatov@ru.ey.com\\n', '6 Dmitriy.Chebotarev@ru.ey.com\\n', '7 Pavel.Titarenko@ru.ey.com\\n', '8 Maria.Taran@ru.ey.com']\n"
     ]
    }
   ],
   "source": [
    "file_obj = open('jopa.txt')\n",
    "data_list = list(file_obj)\n",
    "print(data_list)"
   ]
  },
  {
   "cell_type": "code",
   "execution_count": 27,
   "metadata": {},
   "outputs": [
    {
     "name": "stdout",
     "output_type": "stream",
     "text": [
      "1 Ochir.Basangov@ru.ey.com\n",
      "2 Bat-Nasn.Botaev@ru.ey.com\n",
      "3 Diana.Karabegovich@ru.ey.com\n",
      "4 Maxim.Myakin@ru.ey.com\n",
      "5 Andrei.Ignatov@ru.ey.com\n",
      "6 Dmitriy.Chebotarev@ru.ey.com\n",
      "7 Pavel.Titarenko@ru.ey.com\n",
      "8 Maria.Taran@ru.ey.com\n"
     ]
    }
   ],
   "source": [
    "for line in data_list: print(line.strip())"
   ]
  },
  {
   "cell_type": "code",
   "execution_count": 28,
   "metadata": {},
   "outputs": [
    {
     "name": "stdout",
     "output_type": "stream",
     "text": [
      "1 Ochir.Basangov@ru.ey.com\n",
      "2 Bat-Nasn.Botaev@ru.ey.com\n",
      "3 Diana.Karabegovich@ru.ey.com\n",
      "4 Maxim.Myakin@ru.ey.com\n",
      "5 Andrei.Ignatov@ru.ey.com\n",
      "6 Dmitriy.Chebotarev@ru.ey.com\n",
      "7 Pavel.Titarenko@ru.ey.com\n",
      "8 Maria.Taran@ru.ey.com\n"
     ]
    }
   ],
   "source": [
    "file_obj = open('jopa.txt')\n",
    "data_list = file_obj.readlines()\n",
    "for line in data_list: print(line.strip())"
   ]
  },
  {
   "cell_type": "code",
   "execution_count": 29,
   "metadata": {},
   "outputs": [
    {
     "name": "stdout",
     "output_type": "stream",
     "text": [
      "4 Maxim.Myakin@ru.ey.com\n",
      "5 Andrei.Ignatov@ru.ey.com\n",
      "6 Dmitriy.Chebotarev@ru.ey.com\n",
      "\n"
     ]
    }
   ],
   "source": [
    "f = open(\"jopa.txt\", \"r\")\n",
    "print(''.join(f.readlines()[3:6]) )"
   ]
  },
  {
   "cell_type": "code",
   "execution_count": 32,
   "metadata": {},
   "outputs": [
    {
     "name": "stdout",
     "output_type": "stream",
     "text": [
      "4 Maxim.Myakin@ru.ey.com\n",
      "\n",
      "5 Andrei.Ignatov@ru.ey.com\n",
      "\n",
      "6 Dmitriy.Chebotarev@ru.ey.com\n",
      "\n"
     ]
    }
   ],
   "source": [
    "f = open(\"jopa.txt\", \"r\")\n",
    "i = 0\n",
    "for line in f:\n",
    "    if i >= 3 and i < 6:\n",
    "        print(line)\n",
    "    i += 1"
   ]
  },
  {
   "cell_type": "code",
   "execution_count": 34,
   "metadata": {},
   "outputs": [
    {
     "name": "stdout",
     "output_type": "stream",
     "text": [
      "chi\n"
     ]
    }
   ],
   "source": [
    "f = open(\"jopa.txt\", \"r\")\n",
    "print (''.join(f.readline()[3:6]) )"
   ]
  },
  {
   "cell_type": "code",
   "execution_count": 43,
   "metadata": {},
   "outputs": [
    {
     "ename": "ValueError",
     "evalue": "I/O operation on closed file.",
     "output_type": "error",
     "traceback": [
      "\u001b[1;31m---------------------------------------------------------------------------\u001b[0m",
      "\u001b[1;31mValueError\u001b[0m                                Traceback (most recent call last)",
      "\u001b[1;32m<ipython-input-43-35a370a7cd20>\u001b[0m in \u001b[0;36m<module>\u001b[1;34m\u001b[0m\n\u001b[0;32m      1\u001b[0m \u001b[0mfile_obj\u001b[0m \u001b[1;33m=\u001b[0m \u001b[0mopen\u001b[0m\u001b[1;33m(\u001b[0m\u001b[1;34m'jopa.txt'\u001b[0m\u001b[1;33m)\u001b[0m\u001b[1;33m\u001b[0m\u001b[1;33m\u001b[0m\u001b[0m\n\u001b[0;32m      2\u001b[0m \u001b[0mfile_obj\u001b[0m\u001b[1;33m.\u001b[0m\u001b[0mclose\u001b[0m\u001b[1;33m(\u001b[0m\u001b[1;33m)\u001b[0m\u001b[1;33m\u001b[0m\u001b[1;33m\u001b[0m\u001b[0m\n\u001b[1;32m----> 3\u001b[1;33m \u001b[0mfile_obj\u001b[0m\u001b[1;33m.\u001b[0m\u001b[0mread\u001b[0m\u001b[1;33m(\u001b[0m\u001b[1;33m)\u001b[0m\u001b[1;33m\u001b[0m\u001b[1;33m\u001b[0m\u001b[0m\n\u001b[0m",
      "\u001b[1;31mValueError\u001b[0m: I/O operation on closed file."
     ]
    }
   ],
   "source": [
    "file_obj = open('jopa.txt')\n",
    "file_obj.close() #закрытие файла\n",
    "file_obj.read()"
   ]
  },
  {
   "cell_type": "code",
   "execution_count": 44,
   "metadata": {},
   "outputs": [
    {
     "name": "stdout",
     "output_type": "stream",
     "text": [
      "1 Мингиян Санджиев - Мамба из Казначейства\n",
      "2 Данир Мингиянович - вечный рульфист\n",
      "3 Флаксор Хуйджопович - менеджер хх7\n"
     ]
    }
   ],
   "source": [
    "file_obj = open('koi_8.txt')\n",
    "print(file_obj.read())"
   ]
  },
  {
   "cell_type": "code",
   "execution_count": 45,
   "metadata": {},
   "outputs": [
    {
     "name": "stdout",
     "output_type": "stream",
     "text": [
      "1 лХМЦХЪМ яЮМДФХЕБ - лЮЛАЮ ХГ йЮГМЮВЕИЯРБЮ\n",
      "2 дЮМХП лХМЦХЪМНБХВ - БЕВМШИ ПСКЭТХЯР\n",
      "3 тКЮЙЯНП уСИДФНОНБХВ - ЛЕМЕДФЕП УУ7\n"
     ]
    }
   ],
   "source": [
    "#импорт кодировок\n",
    "import codecs\n",
    "file_obj = open('koi_8.txt', 'r', encoding = 'koi8-r')\n",
    "print(file_obj.read())"
   ]
  },
  {
   "cell_type": "code",
   "execution_count": 48,
   "metadata": {},
   "outputs": [
    {
     "name": "stdout",
     "output_type": "stream",
     "text": [
      "1 Ěčíăč˙í Ńŕíäćčĺâ - Ěŕěáŕ čç Ęŕçíŕ÷ĺéńňâŕ\n",
      "2 Äŕíčđ Ěčíăč˙íîâč÷ - âĺ÷íűé đóëüôčńň\n",
      "3 Ôëŕęńîđ Őóéäćîďîâč÷ - ěĺíĺäćĺđ őő7\n"
     ]
    }
   ],
   "source": [
    "file_obj = open('koi_8.txt', 'r', encoding = 'windows-1250')\n",
    "print(file_obj.read())"
   ]
  },
  {
   "cell_type": "code",
   "execution_count": 49,
   "metadata": {},
   "outputs": [
    {
     "name": "stdout",
     "output_type": "stream",
     "text": [
      "1 Мингиян Санджиев - Мамба из Казначейства\n",
      "2 Данир Мингиянович - вечный рульфист\n",
      "3 Флаксор Хуйджопович - менеджер хх7\n"
     ]
    }
   ],
   "source": [
    "file_obj = open('koi_8.txt', 'r', encoding = 'windows-1251') #русская виндовс кодировка\n",
    "print(file_obj.read())"
   ]
  },
  {
   "cell_type": "code",
   "execution_count": 8,
   "metadata": {},
   "outputs": [
    {
     "name": "stdout",
     "output_type": "stream",
     "text": [
      "0 1 0 1\n"
     ]
    }
   ],
   "source": [
    "print (\" \".join([str(x ** 2 % 2) for x in range(4)]) )"
   ]
  },
  {
   "cell_type": "code",
   "execution_count": 10,
   "metadata": {},
   "outputs": [
    {
     "data": {
      "text/plain": [
       "True"
      ]
     },
     "execution_count": 10,
     "metadata": {},
     "output_type": "execute_result"
    }
   ],
   "source": [
    "True"
   ]
  },
  {
   "cell_type": "markdown",
   "metadata": {},
   "source": [
    "# Тест - Синтаксис Python\n",
    "\n",
    "Tuple - кортеж, \n",
    "list - список, \n",
    "dict - словарь.\n",
    "\n",
    "1. Выберите правильные утверждения про типы данных в Python.\n",
    "- Массивы в Python представлены типами list и tuple.\n",
    "- Тип данных tuple — это неизменяемый массив.\n",
    "- В list и tuple могут содержаться элементы разных типов данных.\n",
    "\n",
    "2. Выберите правильные утверждения про типы данных в Python.\n",
    "- В tuple, dict, list могут содержаться элементы разных типов данных.\n",
    "- В dict нельзя использовать list в качестве ключа.\n",
    "- Разные скобки в Python используются для создания объектов разных типов данных: ( ) - для tuple, [ ] - для list, { } - для dict и set.\n",
    "\n",
    "3. Выберите верные утверждения про синтаксис Python 2.x\n",
    "- Тело циклов (for, while) и условий (if, elif, else) должно быть написано с однотипным отступомю\n",
    "- В Python булевские значения True и False пишутся с большой буквы.\n",
    "- Деление целых чисел по умолчанию целочисленное, для получения в результате деления числа с плавающей точкой нужно либо явно приводить тип хотя бы одного из чисел с помощью float(), либо одно из чисел записать как число с плавающей точкой.\n",
    "\n",
    "4. Что выведет выражение: print \" \".join([str(x ** 2 % 2) for x in range(4)]) ? Обратите внимание, что некоторые из вариантов ответа могут совпадать по выводу, но не совпадать по объяснению того, что именно происходило в этой строчке кода. Нужно выбрать самый точный вариант.\n",
    "- 0 1 0 1 (остаток от деления на 2 квадратов чисел от 0 до 3 включительно)\n",
    "\n",
    "5. Чем в Python 2.x отличается range от xrange?\n",
    "- xrange возвращает генератор, а range — массив\n",
    "\n",
    "6. Что вернет выражение lambda x, y: x ** 2\n",
    "- Функцию, принимающую на вход два аргумента, и возвращающую квадрат первого аргумента\n",
    "\n",
    "7. Предположим, что нам необходимо открыть текстовый файл для того, чтобы дописать в его конец несколько строк, оставив при этом исходное содержимое файла (строки, которые в нем уже были) без изменений. В каком режиме (mode) нам следует отрыть файл в этом случае?\n",
    "- 'a'\n",
    "\n",
    "\n",
    "'a' - режим дописать в конец файла несколько строк, оставив при этом исходное содержимое файла (строки, которые в нем уже были) без изменений"
   ]
  },
  {
   "cell_type": "markdown",
   "metadata": {},
   "source": [
    "# Тест - Производная и её применения\n",
    "\n",
    "1. Что такое производная функции?\n",
    "- Это предел отношения приращения функции к приращению аргумента при стремлении приращения аргумента к нулю.\n",
    "2. Выберите верные утверждения про касательную к графику функции.\n",
    "- Касательная — это прямая.\n",
    "- Угловой коэффициент касательной — это значение производной.\n",
    "- Касательная — это предельное положение секущей.\n",
    "3. Если функция строго убывает (из x_1> x_2 следует, что f(x_1) < f(x_2) ), производная:\n",
    "- Неположительна, если определена.\n",
    "4. Если вторая производная положительна, то функция\n",
    "- выпукла.\n",
    "5. Производная сложной функции f( g(x) ) вычисляется как\n",
    "- произведение производных функций ff и gg по их аргументам."
   ]
  },
  {
   "cell_type": "markdown",
   "metadata": {},
   "source": [
    "## Запись в файл"
   ]
  },
  {
   "cell_type": "code",
   "execution_count": 27,
   "metadata": {},
   "outputs": [],
   "source": [
    "#запись строки в файл, открытый в режиме 'w'\n",
    "file_obj = open('file_to_write_in.txt', 'w')\n",
    "string = 'строка для записи в файл\\n' #перезаписывает!\n",
    "file_obj.write(string)\n",
    "file_obj.close()"
   ]
  },
  {
   "cell_type": "code",
   "execution_count": 42,
   "metadata": {},
   "outputs": [
    {
     "name": "stdout",
     "output_type": "stream",
     "text": [
      "вторая строка для записи в файл\n",
      "\n"
     ]
    }
   ],
   "source": [
    "file_obj = open('file_to_write_in.txt', 'r')\n",
    "print(file_obj.read())"
   ]
  },
  {
   "cell_type": "code",
   "execution_count": 43,
   "metadata": {},
   "outputs": [],
   "source": [
    "#запись строки в файл, открытый в режиме 'w'\n",
    "file_obj = open('file_to_write_in.txt', 'w')\n",
    "string = 'строка для записи в файл\\n'\n",
    "file_obj.write(string)\n",
    "file_obj.close()"
   ]
  },
  {
   "cell_type": "code",
   "execution_count": 44,
   "metadata": {},
   "outputs": [],
   "source": [
    "#запись строки в файл, открытый в режиме 'w'\n",
    "file_obj = open('file_to_write_in.txt', 'w')\n",
    "second_string = 'вторая строка для записи в файл\\n'\n",
    "file_obj.write(second_string)\n",
    "file_obj.close()"
   ]
  },
  {
   "cell_type": "code",
   "execution_count": 47,
   "metadata": {},
   "outputs": [
    {
     "name": "stdout",
     "output_type": "stream",
     "text": [
      "вторая строка для записи в файл\n",
      "третья строка для записи в файл\n"
     ]
    }
   ],
   "source": [
    "!more file_to_write_in.txt"
   ]
  },
  {
   "cell_type": "code",
   "execution_count": 46,
   "metadata": {},
   "outputs": [],
   "source": [
    "#запись строки в файл, открытый в режиме 'a'\n",
    "file_obj = open('file_to_write_in.txt', 'a')\n",
    "second_string = 'третья строка для записи в файл\\n' #ДОПИСЫВАНИЕ строк\n",
    "file_obj.write(second_string)\n",
    "file_obj.close()"
   ]
  },
  {
   "cell_type": "code",
   "execution_count": 48,
   "metadata": {},
   "outputs": [],
   "source": [
    "#создание списка чисел от 1 до 10\n",
    "digits = range(1,11)"
   ]
  },
  {
   "cell_type": "code",
   "execution_count": 49,
   "metadata": {},
   "outputs": [],
   "source": [
    "#запись в файл списка строк с помощью функции writelines\n",
    "file_obj = open('second_file_for_write_in.txt', 'w')\n",
    "file_obj.writelines(digit + '\\n' for digit in map(str, digits))\n",
    "file_obj.close()"
   ]
  },
  {
   "cell_type": "code",
   "execution_count": 50,
   "metadata": {},
   "outputs": [
    {
     "name": "stdout",
     "output_type": "stream",
     "text": [
      "1\n",
      "2\n",
      "3\n",
      "4\n",
      "5\n",
      "6\n",
      "7\n",
      "8\n",
      "9\n",
      "10\n",
      "\n"
     ]
    }
   ],
   "source": [
    "#вывод на экран содержимого файла\n",
    "with open('second_file_for_write_in.txt', 'r') as file_obj:\n",
    "    print(file_obj.read())"
   ]
  },
  {
   "cell_type": "code",
   "execution_count": null,
   "metadata": {},
   "outputs": [],
   "source": []
  },
  {
   "cell_type": "code",
   "execution_count": null,
   "metadata": {},
   "outputs": [],
   "source": []
  },
  {
   "cell_type": "code",
   "execution_count": null,
   "metadata": {},
   "outputs": [],
   "source": []
  },
  {
   "cell_type": "code",
   "execution_count": null,
   "metadata": {},
   "outputs": [],
   "source": []
  },
  {
   "cell_type": "code",
   "execution_count": null,
   "metadata": {},
   "outputs": [],
   "source": []
  },
  {
   "cell_type": "code",
   "execution_count": null,
   "metadata": {},
   "outputs": [],
   "source": []
  },
  {
   "cell_type": "code",
   "execution_count": null,
   "metadata": {},
   "outputs": [],
   "source": []
  },
  {
   "cell_type": "code",
   "execution_count": null,
   "metadata": {},
   "outputs": [],
   "source": []
  },
  {
   "cell_type": "code",
   "execution_count": null,
   "metadata": {},
   "outputs": [],
   "source": []
  },
  {
   "cell_type": "code",
   "execution_count": null,
   "metadata": {},
   "outputs": [],
   "source": []
  },
  {
   "cell_type": "code",
   "execution_count": null,
   "metadata": {},
   "outputs": [],
   "source": []
  },
  {
   "cell_type": "code",
   "execution_count": null,
   "metadata": {},
   "outputs": [],
   "source": []
  }
 ],
 "metadata": {
  "kernelspec": {
   "display_name": "Python 3",
   "language": "python",
   "name": "python3"
  },
  "language_info": {
   "codemirror_mode": {
    "name": "ipython",
    "version": 3
   },
   "file_extension": ".py",
   "mimetype": "text/x-python",
   "name": "python",
   "nbconvert_exporter": "python",
   "pygments_lexer": "ipython3",
   "version": "3.8.5"
  }
 },
 "nbformat": 4,
 "nbformat_minor": 4
}
